{
 "cells": [
  {
   "cell_type": "code",
   "execution_count": 1,
   "metadata": {},
   "outputs": [],
   "source": [
    "import random\n",
    "\n",
    "def choose_first():\n",
    "    player = random.randint(1,2)\n",
    "    string = \"Player \" + str(player) + \" will start first\"\n",
    "    print(string)\n",
    "    return player"
   ]
  },
  {
   "cell_type": "code",
   "execution_count": 2,
   "metadata": {},
   "outputs": [],
   "source": [
    "from IPython.display import clear_output\n",
    "\n",
    "def display_board(board):\n",
    "    clear_output()\n",
    "    print(board[7] +' | '+ board[8] +' | '+ board[9])\n",
    "    print('--+---+--')\n",
    "    print(board[4] +' | '+ board[5] +' | '+ board[6])\n",
    "    print('--+---+--')\n",
    "    print(board[1] +' | '+ board[2] +' | '+ board[3])"
   ]
  },
  {
   "cell_type": "code",
   "execution_count": 3,
   "metadata": {},
   "outputs": [],
   "source": [
    "def player_input():\n",
    "    choice = 'WRONG'\n",
    "    while choice not in ['X', 'O']:\n",
    "        choice = input(\"Please pick a marker 'X' or 'O'\")\n",
    "        \n",
    "        if choice not in ['X', 'O']:\n",
    "            print(\"Please choose either 'X' or 'O'\")\n",
    "    return choice"
   ]
  },
  {
   "cell_type": "code",
   "execution_count": 4,
   "metadata": {},
   "outputs": [],
   "source": [
    "def place_marker(board, marker, position):\n",
    "    board[position] = marker"
   ]
  },
  {
   "cell_type": "code",
   "execution_count": 5,
   "metadata": {},
   "outputs": [],
   "source": [
    "def win_check(board, mark):\n",
    "    if board[1] == mark and board[2] == mark and board[3] == mark:\n",
    "        return True\n",
    "    elif board[4] == mark and board[5] == mark and board[6] == mark:\n",
    "        return True\n",
    "    elif board[7] == mark and board[8] == mark and board[9] == mark:\n",
    "        return True\n",
    "    elif board[1] == mark and board[4] == mark and board[7] == mark:\n",
    "        return True\n",
    "    elif board[2] == mark and board[5] == mark and board[8] == mark:\n",
    "        return True\n",
    "    elif board[3] == mark and board[6] == mark and board[9] == mark:\n",
    "        return True\n",
    "    elif board[1] == mark and board[5] == mark and board[9] == mark:\n",
    "        return True\n",
    "    elif board[3] == mark and board[5] == mark and board[7] == mark:\n",
    "        return True\n",
    "    else:\n",
    "        return False"
   ]
  },
  {
   "cell_type": "code",
   "execution_count": 6,
   "metadata": {},
   "outputs": [],
   "source": [
    "def space_check(board, position):\n",
    "    return board[position] == ' '"
   ]
  },
  {
   "cell_type": "code",
   "execution_count": 7,
   "metadata": {},
   "outputs": [],
   "source": [
    "def full_board_check(board):\n",
    "    return ' ' not in board"
   ]
  },
  {
   "cell_type": "code",
   "execution_count": 8,
   "metadata": {},
   "outputs": [],
   "source": [
    "def player_choice(board):\n",
    "    position = int(input(\"Enter your position: \"))\n",
    "    if space_check(board, position):\n",
    "        return int(position)"
   ]
  },
  {
   "cell_type": "code",
   "execution_count": 9,
   "metadata": {},
   "outputs": [],
   "source": [
    "def replay():\n",
    "    choice = \"WRONG\"\n",
    "    while choice not in ['Y', 'N']:\n",
    "        choice = input(\"Please choose either 'Y' or 'N'\")\n",
    "        \n",
    "        if choice not in ['Y', 'N']:\n",
    "            print(\"Please choose either 'Y' or 'N'\")\n",
    "    if choice == 'Y':\n",
    "        return True\n",
    "    else:\n",
    "        return False"
   ]
  },
  {
   "cell_type": "code",
   "execution_count": null,
   "metadata": {},
   "outputs": [
    {
     "name": "stdout",
     "output_type": "stream",
     "text": [
      "  | O | X\n",
      "--+---+--\n",
      "O | X |  \n",
      "--+---+--\n",
      "X |   |  \n",
      "2 Won!\n"
     ]
    }
   ],
   "source": [
    "print('Welcome to Tic Tac Toe!')\n",
    "\n",
    "while True:\n",
    "    # Set the game up here\n",
    "    \n",
    "    first_player = choose_first()\n",
    "    first_player_mark = player_input()\n",
    "    \n",
    "    second_player = 3-first_player\n",
    "    if first_player_mark == 'X':\n",
    "        second_player_mark = 'O'\n",
    "    elif first_player_mark == 'O':\n",
    "        second_player_mark = 'X'\n",
    "    \n",
    "    board = ['#',' ',' ',' ',' ',' ',' ',' ',' ',' ']\n",
    "    display_board(board)\n",
    "    \n",
    "    chance = first_player\n",
    "    mark = first_player_mark\n",
    "    \n",
    "    game_on = True\n",
    "    \n",
    "    while game_on:\n",
    "        \n",
    "        if chance == first_player:\n",
    "            if full_board_check(board):\n",
    "                game_on = False\n",
    "                print(\"Khichadi Pak gaya\")\n",
    "            else:\n",
    "                position = player_choice(board)\n",
    "                place_marker(board, mark, position)\n",
    "                display_board(board)\n",
    "                if win_check(board, mark):\n",
    "                    print(f\"{first_player} Won!\")\n",
    "                    game_on = False\n",
    "                else:\n",
    "                    chance = second_player\n",
    "                    mark = second_player_mark\n",
    "                    \n",
    "        elif chance == second_player:\n",
    "            if full_board_check(board):\n",
    "                game_on = False\n",
    "                print(\"Khichadi Pak gaya\")\n",
    "            else:\n",
    "                position = player_choice(board)\n",
    "                place_marker(board, mark, position)\n",
    "                display_board(board)\n",
    "                if win_check(board, mark):\n",
    "                    print(f\"{second_player} Won!\")\n",
    "                    game_on = False\n",
    "                else:\n",
    "                    chance = first_player\n",
    "                    mark = first_player_mark\n",
    "        \n",
    "    if not replay():\n",
    "        break"
   ]
  },
  {
   "cell_type": "code",
   "execution_count": null,
   "metadata": {},
   "outputs": [],
   "source": [
    "board = ['#',' ',' ',' ',' ',' ',' ',' ',' ',' ']\n",
    "display_board(board)"
   ]
  },
  {
   "cell_type": "code",
   "execution_count": null,
   "metadata": {},
   "outputs": [],
   "source": []
  }
 ],
 "metadata": {
  "kernelspec": {
   "display_name": "Python 3",
   "language": "python",
   "name": "python3"
  },
  "language_info": {
   "codemirror_mode": {
    "name": "ipython",
    "version": 3
   },
   "file_extension": ".py",
   "mimetype": "text/x-python",
   "name": "python",
   "nbconvert_exporter": "python",
   "pygments_lexer": "ipython3",
   "version": "3.8.5"
  }
 },
 "nbformat": 4,
 "nbformat_minor": 4
}
