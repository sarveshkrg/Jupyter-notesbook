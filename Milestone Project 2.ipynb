{
 "cells": [
  {
   "cell_type": "code",
   "execution_count": 2,
   "metadata": {},
   "outputs": [],
   "source": [
    "import random\n",
    "\n",
    "suits = ('Hearts', 'Diamonds', 'Spades', 'Clubs')\n",
    "ranks = ('Two', 'Three', 'Four', 'Five', 'Six', 'Seven', 'Eight', 'Nine', 'Ten', 'Jack', 'Queen', 'King', 'Ace')\n",
    "values = {'Two':2, 'Three':3, 'Four':4, 'Five':5, 'Six':6, 'Seven':7, 'Eight':8, 'Nine':9, 'Ten':10, 'Jack':10,\n",
    "         'Queen':10, 'King':10, 'Ace':11}\n",
    "\n",
    "playing = True"
   ]
  },
  {
   "cell_type": "code",
   "execution_count": 3,
   "metadata": {},
   "outputs": [],
   "source": [
    "class Card:\n",
    "    \n",
    "    def __init__(self, suit, rank):\n",
    "        self.suit = suit\n",
    "        self.rank = rank\n",
    "        self.value = values[rank]\n",
    "        \n",
    "    def __str__(self):\n",
    "        return self.rank + ' of ' + self.suit"
   ]
  },
  {
   "cell_type": "code",
   "execution_count": 4,
   "metadata": {},
   "outputs": [],
   "source": [
    "class Deck:\n",
    "    def __init__(self):\n",
    "        self.all_cards = []\n",
    "        for suit in suits:\n",
    "            for rank in ranks:\n",
    "                # Create a card object\n",
    "                created_card = Card(suit, rank)\n",
    "                self.all_cards.append(created_card)\n",
    "                \n",
    "    def shuffle(self):\n",
    "        random.shuffle(self.all_cards)\n",
    "        \n",
    "    def deal_one(self):\n",
    "        return self.all_cards.pop()"
   ]
  },
  {
   "cell_type": "code",
   "execution_count": 5,
   "metadata": {},
   "outputs": [],
   "source": [
    "class Hand:\n",
    "    def __init__(self):\n",
    "        self.cards = []  # start with an empty list as we did in the Deck class\n",
    "        self.value = 0   # start with zero value\n",
    "        self.aces = 0    # add an attribute to keep track of aces\n",
    "    \n",
    "    def add_card(self,card):\n",
    "        self.cards.append(card)\n",
    "        if card.rank == \"Ace\":\n",
    "            self.adjust_for_ace()\n",
    "            self.value += self.aces\n",
    "        else:\n",
    "            self.value += card.value\n",
    "    \n",
    "    def adjust_for_ace(self):\n",
    "        if self.value <= 10:\n",
    "            self.aces = 11\n",
    "        else:\n",
    "            self.aces = 1"
   ]
  },
  {
   "cell_type": "code",
   "execution_count": 7,
   "metadata": {},
   "outputs": [],
   "source": [
    "class Chips:\n",
    "    \n",
    "    def __init__(self):\n",
    "        self.total = 100  # This can be set to a default value or supplied by a user input\n",
    "        self.bet = 0\n",
    "        \n",
    "    def win_bet(self):\n",
    "        self.total += self.bet\n",
    "    \n",
    "    def lose_bet(self):\n",
    "        self.total -= self.bet"
   ]
  },
  {
   "cell_type": "code",
   "execution_count": 8,
   "metadata": {},
   "outputs": [],
   "source": [
    "def take_bet(chips):\n",
    "    bet = 101\n",
    "    while bet > chips.total:\n",
    "        bet = int(input(\"Place a bet: \"))\n",
    "        if bet > chips.total:\n",
    "            print(\"Insufficient Chips: \", chips.total)\n",
    "    return bet"
   ]
  },
  {
   "cell_type": "code",
   "execution_count": 9,
   "metadata": {},
   "outputs": [],
   "source": [
    "def hit(deck,hand):\n",
    "    card = deck.deal_one()\n",
    "    hand.add_card(card)"
   ]
  },
  {
   "cell_type": "code",
   "execution_count": 10,
   "metadata": {},
   "outputs": [],
   "source": [
    "def hit_or_stand(deck,hand):\n",
    "    global playing  # to control an upcoming while loop\n",
    "    while playing == True:\n",
    "        choice = int(input(\"For Hit: Press 1\\nFor Stand: Press 2\\n\"))\n",
    "        if choice == 1:\n",
    "            hit(deck,hand)\n",
    "        elif choice == 2:\n",
    "            playing = False"
   ]
  },
  {
   "cell_type": "code",
   "execution_count": 11,
   "metadata": {},
   "outputs": [],
   "source": [
    "def show_some(player,dealer):\n",
    "    for card in player.cards:\n",
    "        print(card.suite, card.rank)\n",
    "    print(player.value)\n",
    "    for card in dealer.cards[1:]:\n",
    "        print(card.suite, card.rank, card.value)\n",
    "    \n",
    "def show_all(player,dealer):\n",
    "    for card in player.cards:\n",
    "        print(card.suite, card.rank)\n",
    "    print(player.value)\n",
    "    for card in dealer.cards[1:]:\n",
    "        print(card.suite, card.rank)\n",
    "    print(dealer.value)"
   ]
  },
  {
   "cell_type": "code",
   "execution_count": 12,
   "metadata": {},
   "outputs": [],
   "source": [
    "def player_busts(player, dealer, chips):\n",
    "    print(\"Player busts!\")\n",
    "    chips.lose_bet()\n",
    "\n",
    "def player_wins(player,dealer,chips):\n",
    "    print(\"Player wins!\")\n",
    "    chips.win_bet()\n",
    "\n",
    "def dealer_busts(player,dealer,chips):\n",
    "    print(\"Dealer busts!\")\n",
    "    chips.win_bet()\n",
    "    \n",
    "def dealer_wins(player,dealer,chips):\n",
    "    print(\"Dealer wins!\")\n",
    "    chips.lose_bet()\n",
    "    \n",
    "def push():\n",
    "    print(\"Dealer and Player tie! It's a push.\")"
   ]
  },
  {
   "cell_type": "code",
   "execution_count": null,
   "metadata": {},
   "outputs": [],
   "source": [
    "while True:\n",
    "    # Print an opening statement\n",
    "\n",
    "    \n",
    "    # Create & shuffle the deck, deal two cards to each player\n",
    "\n",
    "    \n",
    "        \n",
    "    # Set up the Player's chips\n",
    "    \n",
    "    \n",
    "    # Prompt the Player for their bet\n",
    "\n",
    "    \n",
    "    # Show cards (but keep one dealer card hidden)\n",
    "\n",
    "    \n",
    "    while playing:  # recall this variable from our hit_or_stand function\n",
    "        \n",
    "        # Prompt for Player to Hit or Stand\n",
    "        \n",
    "        \n",
    "        # Show cards (but keep one dealer card hidden)\n",
    " \n",
    "        \n",
    "        # If player's hand exceeds 21, run player_busts() and break out of loop\n",
    "        \n",
    "\n",
    "            break\n",
    "\n",
    "    # If Player hasn't busted, play Dealer's hand until Dealer reaches 17\n",
    "    \n",
    "    \n",
    "        # Show all cards\n",
    "    \n",
    "        # Run different winning scenarios\n",
    "        \n",
    "    \n",
    "    # Inform Player of their chips total \n",
    "    \n",
    "    # Ask to play again\n",
    "\n",
    "        break"
   ]
  }
 ],
 "metadata": {
  "kernelspec": {
   "display_name": "Python 3",
   "language": "python",
   "name": "python3"
  },
  "language_info": {
   "codemirror_mode": {
    "name": "ipython",
    "version": 3
   },
   "file_extension": ".py",
   "mimetype": "text/x-python",
   "name": "python",
   "nbconvert_exporter": "python",
   "pygments_lexer": "ipython3",
   "version": "3.8.5"
  }
 },
 "nbformat": 4,
 "nbformat_minor": 4
}
